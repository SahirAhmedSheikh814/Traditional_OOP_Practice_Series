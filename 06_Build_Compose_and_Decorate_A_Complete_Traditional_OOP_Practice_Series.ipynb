{
 "cells": [
  {
   "cell_type": "markdown",
   "id": "bb61771a",
   "metadata": {},
   "source": [
    "# 1. Using self\n",
    "Assignment:\n",
    "\n",
    "Create a class Student with attributes name and marks. Use the self keyword to initialize these values via a constructor. Add a method display() that prints student details."
   ]
  },
  {
   "cell_type": "code",
   "execution_count": 1,
   "id": "1137aca0",
   "metadata": {},
   "outputs": [
    {
     "name": "stdout",
     "output_type": "stream",
     "text": [
      "My name is Sahir and I got 95 marks in my second quarter of GIAIC.\n"
     ]
    }
   ],
   "source": [
    "class Student:\n",
    "    def __init__(self, name, marks):\n",
    "        self.name = name\n",
    "        self.marks = marks\n",
    "\n",
    "    def display(self):\n",
    "        print(f\"My name is {self.name} and I got {self.marks} marks in my second quarter of GIAIC.\")\n",
    "\n",
    "# Creating an instance of Student\n",
    "student = Student(\"Sahir\", 95)\n",
    "student.display()\n"
   ]
  },
  {
   "cell_type": "markdown",
   "id": "2032a750",
   "metadata": {},
   "source": [
    "# 2. Using cls\n",
    "Assignment:\n",
    "\n",
    "Create a class Counter that keeps track of how many objects have been created. Use a class variable and a class method with cls to manage and display the count.\n",
    "\n"
   ]
  },
  {
   "cell_type": "code",
   "execution_count": 2,
   "id": "eba657d3",
   "metadata": {},
   "outputs": [
    {
     "name": "stdout",
     "output_type": "stream",
     "text": [
      "The number of Counter instances created: 5\n"
     ]
    }
   ],
   "source": [
    "class Counter:\n",
    "    count = 0\n",
    "\n",
    "    def __init__(self):\n",
    "        Counter.count += 1\n",
    "\n",
    "    @classmethod\n",
    "    def get_count_of_objects(cls):\n",
    "        return cls.count\n",
    "\n",
    "# Creating instances\n",
    "obj1 = Counter()\n",
    "obj2 = Counter()\n",
    "obj3 = Counter()\n",
    "obj4 = Counter()\n",
    "obj5 = Counter()\n",
    "\n",
    "print(f'The number of Counter instances created: {Counter.get_count_of_objects()}')\n"
   ]
  },
  {
   "cell_type": "markdown",
   "id": "ab2b1cfb",
   "metadata": {},
   "source": [
    "# 3. Public Variables and Methods\n",
    "Assignment:\n",
    "\n",
    "Create a class Car with a public variable brand and a public method start(). Instantiate the class and access both from outside the class."
   ]
  },
  {
   "cell_type": "code",
   "execution_count": 5,
   "id": "de50cf5f",
   "metadata": {},
   "outputs": [
    {
     "name": "stdout",
     "output_type": "stream",
     "text": [
      "Mercedes Benz\n",
      "Car is started\n",
      "I have a Mercedes Benz car and its state is now 'Starting'.\n"
     ]
    }
   ],
   "source": [
    "class Car:\n",
    "    def __init__(self, brand):\n",
    "        self.brand = brand\n",
    "        self.state = \"Stopped\"  # Initial state when the car is created\n",
    "\n",
    "    def start(self):\n",
    "        self.state = \"Starting\"\n",
    "        print(\"Car is started\")\n",
    "\n",
    "# Creating an instance of Car\n",
    "car = Car(\"Mercedes Benz\")\n",
    "\n",
    "# Accessing public variable and method from outside\n",
    "print(car.brand)              # Output: Mercedes Benz\n",
    "car.start()                   # Output: Car is started\n",
    "print(f\"I have a {car.brand} car and its state is now '{car.state}'.\")  # Output with updated state\n"
   ]
  },
  {
   "cell_type": "markdown",
   "id": "3d4e7422",
   "metadata": {},
   "source": [
    "# 4. Class Variables and Class Methods\n",
    "Assignment:\n",
    "\n",
    "Create a class Bank with a class variable bank_name. Add a class method change_bank_name(cls, name) that allows changing the bank name. Show that it affects all instances."
   ]
  },
  {
   "cell_type": "code",
   "execution_count": 6,
   "id": "3beebdf7",
   "metadata": {},
   "outputs": [
    {
     "name": "stdout",
     "output_type": "stream",
     "text": [
      "Al Habib Bank\n",
      "Al Habib Bank\n",
      "Al Habib Bank\n",
      "Al Habib Bank\n"
     ]
    }
   ],
   "source": [
    "class Bank:\n",
    "    bank_name = \"Meezan Bank Limited\"\n",
    "\n",
    "    def __init__(self):\n",
    "        pass\n",
    "\n",
    "    @classmethod\n",
    "    def change_bank_name(cls, name):\n",
    "        cls.bank_name = name\n",
    "\n",
    "    def get_bank_name(self):\n",
    "        return self.bank_name\n",
    "\n",
    "# Creating multiple instances\n",
    "bank1 = Bank()\n",
    "bank2 = Bank()\n",
    "bank3 = Bank()\n",
    "bank4 = Bank()\n",
    "\n",
    "# Changing bank name using class method\n",
    "Bank.change_bank_name(\"Al Habib Bank\")\n",
    "\n",
    "# Checking updated bank name for all instances\n",
    "print(bank1.get_bank_name())  # Al Habib Bank\n",
    "print(bank2.get_bank_name())  # Al Habib Bank\n",
    "print(bank3.get_bank_name())  # Al Habib Bank\n",
    "print(bank4.get_bank_name())  # Al Habib Bank\n"
   ]
  },
  {
   "cell_type": "markdown",
   "id": "9bb033aa",
   "metadata": {},
   "source": [
    "# 5. Static Variables and Static Methods\n",
    "Assignment:\n",
    "\n",
    "Create a class MathUtils with a static method add(a, b) that returns the sum. No class or instance variables should be used."
   ]
  },
  {
   "cell_type": "code",
   "execution_count": 7,
   "id": "20e0febb",
   "metadata": {},
   "outputs": [
    {
     "name": "stdout",
     "output_type": "stream",
     "text": [
      "14\n",
      "34\n",
      "11\n",
      "21\n",
      "85\n",
      "54\n"
     ]
    }
   ],
   "source": [
    "class MathUtils:\n",
    "    @staticmethod\n",
    "    def add(a, b):\n",
    "        return a + b\n",
    "\n",
    "# Calling the static method without creating an instance\n",
    "print(MathUtils.add(5, 9))     # 14\n",
    "print(MathUtils.add(15, 19))   # 34\n",
    "print(MathUtils.add(3, 8))     # 11\n",
    "print(MathUtils.add(3, 18))    # 21\n",
    "print(MathUtils.add(76, 9))    # 85\n",
    "print(MathUtils.add(15, 39))   # 54\n"
   ]
  },
  {
   "cell_type": "markdown",
   "id": "4f0623c0",
   "metadata": {},
   "source": [
    "# 6. Constructors and Destructors\n",
    "Assignment:\n",
    "\n",
    "Create a class Logger that prints a message when an object is created (constructor) and another message when it is destroyed (destructor)."
   ]
  },
  {
   "cell_type": "code",
   "execution_count": 8,
   "id": "57c49304",
   "metadata": {},
   "outputs": [
    {
     "name": "stdout",
     "output_type": "stream",
     "text": [
      "Constructor: Logger has been created!\n",
      "Accessing message: Logger has been created!\n",
      "Destructor: Logger object is being destroyed\n"
     ]
    }
   ],
   "source": [
    "class Logger:\n",
    "    def __init__(self, message):\n",
    "        self.message = message\n",
    "        print(f\"Constructor: {self.message}\")\n",
    "\n",
    "    def __del__(self):\n",
    "        print(\"Destructor: Logger object is being destroyed\")\n",
    "\n",
    "# Create the Logger instance\n",
    "logger = Logger(\"Logger has been created!\")\n",
    "\n",
    "print(\"Accessing message:\", logger.message)\n",
    "\n",
    "# Explicitly delete the instance to trigger the destructor\n",
    "del logger\n",
    "\n",
    "# (At this point you should see the destructor message in the output.)\n"
   ]
  },
  {
   "cell_type": "markdown",
   "id": "c33b209e",
   "metadata": {},
   "source": [
    "# 7. Access Modifiers: Public, Private, and Protected\n",
    "Assignment:\n",
    "\n",
    "Create a class Employee with:\n",
    "\n",
    "a public variable name,\n",
    "\n",
    "a protected variable _salary, and\n",
    "\n",
    "a private variable __ssn.\n",
    "\n",
    "Try accessing all three variables from an object of the class and document what happens."
   ]
  },
  {
   "cell_type": "code",
   "execution_count": 11,
   "id": "b57ee717",
   "metadata": {},
   "outputs": [
    {
     "name": "stdout",
     "output_type": "stream",
     "text": [
      "Public (name): Sahir\n",
      "Protected (_salary): 50000\n",
      "Private (__ssn): 123456\n"
     ]
    }
   ],
   "source": [
    "class Employee:\n",
    "    def __init__(self, name):\n",
    "        self.name = name                  # Public\n",
    "        self._salary = 50000              # Protected\n",
    "        self.__ssn = 123456               # Private\n",
    "\n",
    "employee1 = Employee(\"Sahir\")\n",
    "\n",
    "# Accessing public variable\n",
    "print(\"Public (name):\", employee1.name)  # Output: Rabia\n",
    "\n",
    "# Accessing protected variable\n",
    "print(\"Protected (_salary):\", employee1._salary)  # Output: 50000\n",
    "\n",
    "# Trying to access private variable directly (will raise an error)\n",
    "# print(employee1.__ssn)  # ❌ AttributeError\n",
    "\n",
    "# Accessing private variable using name mangling\n",
    "print(\"Private (__ssn):\", employee1._Employee__ssn)  # Output: 123456\n"
   ]
  },
  {
   "cell_type": "markdown",
   "id": "acaf822d",
   "metadata": {},
   "source": [
    "# 8. The super() Function\n",
    "Assignment:\n",
    "\n",
    "Create a class Person with a constructor that sets the name. Inherit a class Teacher from it, add a subject field, and use super() to call the base class constructor."
   ]
  },
  {
   "cell_type": "code",
   "execution_count": 13,
   "id": "eb32f328",
   "metadata": {},
   "outputs": [
    {
     "name": "stdout",
     "output_type": "stream",
     "text": [
      "My English teacher's name is Sir Sahir.\n"
     ]
    }
   ],
   "source": [
    "class Person:\n",
    "    def __init__(self, name):\n",
    "        self.name = name\n",
    "\n",
    "class Teacher(Person):\n",
    "    def __init__(self, name, subject):\n",
    "        super().__init__(name)  # Calling parent constructor\n",
    "        self.subject = subject\n",
    "\n",
    "# Creating a Teacher object\n",
    "teacher1 = Teacher(\"Sahir\", \"English\")\n",
    "\n",
    "# Outputting the result\n",
    "print(f\"My {teacher1.subject} teacher's name is Sir {teacher1.name}.\")\n"
   ]
  },
  {
   "cell_type": "markdown",
   "id": "6215e624",
   "metadata": {},
   "source": [
    "# 9. Abstract Classes and Methods\n",
    "Assignment:\n",
    "\n",
    "Use the abc module to create an abstract class Shape with an abstract method area(). Inherit a class Rectangle that implements area()."
   ]
  },
  {
   "cell_type": "code",
   "execution_count": 14,
   "id": "152ccf2e",
   "metadata": {},
   "outputs": [
    {
     "name": "stdout",
     "output_type": "stream",
     "text": [
      "The area of the given rectangle is 40 sq/m\n"
     ]
    }
   ],
   "source": [
    "from abc import ABC, abstractmethod\n",
    "\n",
    "# Abstract class\n",
    "class Shape(ABC):\n",
    "    @abstractmethod\n",
    "    def area(self):\n",
    "        pass\n",
    "\n",
    "# Subclass\n",
    "class Rectangle(Shape):\n",
    "    def __init__(self, length, breadth):\n",
    "        self.length = length\n",
    "        self.breadth = breadth\n",
    "\n",
    "    def area(self):\n",
    "        return f\"The area of the given rectangle is {self.length * self.breadth} sq/m\"\n",
    "\n",
    "# Create instance and call method\n",
    "rectangle = Rectangle(5, 8)\n",
    "print(rectangle.area())\n"
   ]
  },
  {
   "cell_type": "markdown",
   "id": "2340399b",
   "metadata": {},
   "source": [
    "# 10. Instance Methods\n",
    "Assignment:\n",
    "\n",
    "Create a class Dog with instance variables name and breed. Add an instance method bark() that prints a message including the dog's name."
   ]
  },
  {
   "cell_type": "code",
   "execution_count": 16,
   "id": "6eb28693",
   "metadata": {},
   "outputs": [
    {
     "name": "stdout",
     "output_type": "stream",
     "text": [
      "Tommy is a Labrador.\n",
      "Tommy is barking. Woof Woof!\n"
     ]
    }
   ],
   "source": [
    "class Dog:\n",
    "    def __init__(self, name, breed):\n",
    "        self.name = name\n",
    "        self.breed = breed\n",
    "\n",
    "    def bark(self):\n",
    "        print(f\"{self.name} is barking. Woof Woof!\")\n",
    "\n",
    "# Create a Dog instance\n",
    "dog = Dog(\"Tommy\", \"Labrador\")\n",
    "\n",
    "# Output details\n",
    "print(f\"{dog.name} is a {dog.breed}.\")\n",
    "dog.bark()"
   ]
  },
  {
   "cell_type": "markdown",
   "id": "3952086b",
   "metadata": {},
   "source": [
    "# 11. Class Methods\n",
    "Assignment:\n",
    "\n",
    "Create a class Book with a class variable total_books. Add a class method increment_book_count() to increase the count when a new book is added."
   ]
  },
  {
   "cell_type": "code",
   "execution_count": 17,
   "id": "93909c1d",
   "metadata": {},
   "outputs": [
    {
     "name": "stdout",
     "output_type": "stream",
     "text": [
      "Total number of books added: 10\n"
     ]
    }
   ],
   "source": [
    "class Book:\n",
    "    total_books = 0\n",
    "\n",
    "    def __init__(self):\n",
    "        Book.total_books += 1\n",
    "\n",
    "    @classmethod\n",
    "    def get_book_count(cls):\n",
    "        return f'Total number of books added: {cls.total_books}'\n",
    "\n",
    "# Creating 10 Book objects\n",
    "book1 = Book()\n",
    "book2 = Book()\n",
    "book3 = Book()\n",
    "book4 = Book()\n",
    "book5 = Book()\n",
    "book6 = Book()\n",
    "book7 = Book()\n",
    "book8 = Book()\n",
    "book9 = Book()\n",
    "book10 = Book()\n",
    "\n",
    "# Display total count\n",
    "print(Book.get_book_count())\n"
   ]
  },
  {
   "cell_type": "markdown",
   "id": "ef9739ef",
   "metadata": {},
   "source": [
    "# 12. Static Methods\n",
    "Assignment:\n",
    "\n",
    "Create a class TemperatureConverter with a static method celsius_to_fahrenheit(c) that returns the Fahrenheit value."
   ]
  },
  {
   "cell_type": "code",
   "execution_count": 18,
   "id": "9318753e",
   "metadata": {},
   "outputs": [
    {
     "name": "stdout",
     "output_type": "stream",
     "text": [
      "The temperature in Fahrenheit is 77.00°F\n"
     ]
    }
   ],
   "source": [
    "class TemperatureConverter:\n",
    "    @staticmethod\n",
    "    def celsius_to_fahrenheit(celsius):\n",
    "        return (celsius * 9/5) + 32\n",
    "\n",
    "# Example usage\n",
    "temperature_in_fahrenheit = TemperatureConverter.celsius_to_fahrenheit(25)\n",
    "print(f'The temperature in Fahrenheit is {temperature_in_fahrenheit:.2f}°F')\n"
   ]
  },
  {
   "cell_type": "markdown",
   "id": "0a7721ee",
   "metadata": {},
   "source": [
    "# 13. Composition\n",
    "Assignment:\n",
    "\n",
    "Create a class Engine and a class Car. Use composition by passing an Engine object to the Car class during initialization. Access a method of the Engine class via the Car class."
   ]
  },
  {
   "cell_type": "code",
   "execution_count": 19,
   "id": "bb86a9ee",
   "metadata": {},
   "outputs": [
    {
     "name": "stdout",
     "output_type": "stream",
     "text": [
      "Engine started\n"
     ]
    }
   ],
   "source": [
    "class Engine:\n",
    "    def start_engine(self):\n",
    "        return \"Engine started\"\n",
    "\n",
    "class Car:\n",
    "    def __init__(self, engine: Engine):\n",
    "        self.engine = engine\n",
    "        \n",
    "    def start_car(self):\n",
    "        return self.engine.start_engine()\n",
    "\n",
    "# Creating objects\n",
    "car_engine = Engine()\n",
    "my_car = Car(car_engine)\n",
    "\n",
    "# Output\n",
    "print(my_car.start_car())\n"
   ]
  },
  {
   "cell_type": "markdown",
   "id": "4e4743ff",
   "metadata": {},
   "source": [
    "# 14. Aggregation\n",
    "Assignment:\n",
    "\n",
    "Create a class Department and a class Employee. Use aggregation by having a Department object store a reference to an Employee object that exists independently of it."
   ]
  },
  {
   "cell_type": "code",
   "execution_count": 20,
   "id": "a37cf0c2",
   "metadata": {},
   "outputs": [
    {
     "name": "stdout",
     "output_type": "stream",
     "text": [
      "Employee Sahir works in HR department.\n"
     ]
    }
   ],
   "source": [
    "class Department:\n",
    "    def __init__(self, department_name: str):\n",
    "        self.department_name = department_name\n",
    "        \n",
    "    def get_department_name(self) -> str:\n",
    "        return self.department_name\n",
    "\n",
    "class Employee:\n",
    "    def __init__(self, employee_name: str, department: Department):\n",
    "        self.employee_name = employee_name\n",
    "        self.department = department    \n",
    "\n",
    "# Independent department object\n",
    "department = Department(\"HR\")\n",
    "\n",
    "# Aggregated employee object\n",
    "employee1 = Employee(\"Sahir\", department)\n",
    "\n",
    "# Output\n",
    "print(f\"Employee {employee1.employee_name} works in {employee1.department.get_department_name()} department.\")\n"
   ]
  },
  {
   "cell_type": "markdown",
   "id": "e8be1285",
   "metadata": {},
   "source": [
    "# 15. Method Resolution Order (MRO) and Diamond Inheritance\n",
    "Assignment:\n",
    "\n",
    "Create four classes:\n",
    "\n",
    "A with a method show(),\n",
    "\n",
    "B and C that inherit from A and override show(),\n",
    "\n",
    "D that inherits from both B and C.\n",
    "\n",
    "Create an object of D and call show() to observe MRO."
   ]
  },
  {
   "cell_type": "code",
   "execution_count": 21,
   "id": "faf52efd",
   "metadata": {},
   "outputs": [
    {
     "name": "stdout",
     "output_type": "stream",
     "text": [
      "Class D show() method\n",
      "(<class '__main__.D'>, <class '__main__.B'>, <class '__main__.C'>, <class '__main__.A'>, <class 'object'>)\n"
     ]
    }
   ],
   "source": [
    "class A:\n",
    "    def show(self):\n",
    "        return 'Class A show() method'\n",
    "        \n",
    "class B(A):\n",
    "    def show(self):\n",
    "        return 'Class B show() method'\n",
    "\n",
    "class C(A):\n",
    "    def show(self):\n",
    "        return 'Class C show() method'\n",
    "        \n",
    "class D(B, C):\n",
    "    def show(self):\n",
    "        return 'Class D show() method'\n",
    "        \n",
    "obj1 = D()\n",
    "print(obj1.show())  # Output: Class D show() method\n",
    "\n",
    "# To visualize MRO:\n",
    "print(D.__mro__)\n"
   ]
  },
  {
   "cell_type": "markdown",
   "id": "b02ecd30",
   "metadata": {},
   "source": [
    "# 16. Function Decorators\n",
    "Assignment:\n",
    "\n",
    "Write a decorator function log_function_call that prints \"Function is being called\" before a function executes. Apply it to a function say_hello()."
   ]
  },
  {
   "cell_type": "code",
   "execution_count": 22,
   "id": "f1e7625b",
   "metadata": {},
   "outputs": [
    {
     "name": "stdout",
     "output_type": "stream",
     "text": [
      "Function is being called\n",
      "Hello, World!\n"
     ]
    }
   ],
   "source": [
    "def log_function_call(func):\n",
    "    def wrapper(*args, **kwargs):\n",
    "        print(\"Function is being called\")\n",
    "        return func(*args, **kwargs)\n",
    "    return wrapper\n",
    "\n",
    "@log_function_call\n",
    "def say_hello():\n",
    "    return \"Hello, World!\"\n",
    "\n",
    "print(say_hello())"
   ]
  },
  {
   "cell_type": "markdown",
   "id": "23b6180f",
   "metadata": {},
   "source": [
    "# 17. Class Decorators\n",
    "Assignment:\n",
    "\n",
    "Create a class decorator add_greeting that modifies a class to add a greet() method returning \"Hello from Decorator!\". Apply it to a class Person."
   ]
  },
  {
   "cell_type": "code",
   "execution_count": 24,
   "id": "8df5fd73",
   "metadata": {},
   "outputs": [
    {
     "name": "stdout",
     "output_type": "stream",
     "text": [
      "Name: Sahir\n",
      "Greeting: Hello from Decorator!\n"
     ]
    }
   ],
   "source": [
    "# Class Decorator to add a greet() method to any class\n",
    "def add_greeting(cls: type) -> type:\n",
    "    def greet(self) -> str:\n",
    "        return \"Hello from Decorator!\"\n",
    "    \n",
    "    setattr(cls, \"greet\", greet)  # Dynamically add method to class\n",
    "    return cls\n",
    "\n",
    "# Apply the decorator to the Person class\n",
    "@add_greeting\n",
    "class Person:\n",
    "    def __init__(self, name: str) -> None:\n",
    "        self.name = name\n",
    "\n",
    "# Create an instance and demonstrate the decorator's effect\n",
    "person: Person = Person(\"Sahir\")\n",
    "print(f\"Name: {person.name}\")\n",
    "print(f\"Greeting: {person.greet()}\")"
   ]
  },
  {
   "cell_type": "markdown",
   "id": "246a42b5",
   "metadata": {},
   "source": [
    "# 18. Property Decorators: @property, @setter, and @deleter\n",
    "Assignment:\n",
    "\n",
    "Create a class Product with a private attribute _price. Use @property to get the price, @price.setter to update it, and @price.deleter to delete it."
   ]
  },
  {
   "cell_type": "code",
   "execution_count": 25,
   "id": "9084fb3f",
   "metadata": {},
   "outputs": [
    {
     "name": "stdout",
     "output_type": "stream",
     "text": [
      "Initial Price: 1000\n",
      "Updated Price: 1500\n",
      "Product price deleted successfully!\n"
     ]
    }
   ],
   "source": [
    "class Product:\n",
    "    def __init__(self, price: float) -> None:\n",
    "        self.__price = price  # Private attribute\n",
    "\n",
    "    @property\n",
    "    def price(self) -> float:\n",
    "        \"\"\"Getter: Returns the current price of the product.\"\"\"\n",
    "        return self.__price\n",
    "\n",
    "    @price.setter\n",
    "    def price(self, value: float) -> None:\n",
    "        \"\"\"Setter: Updates the product price.\"\"\"\n",
    "        if value < 0:\n",
    "            raise ValueError(\"Price cannot be negative.\")\n",
    "        self.__price = value\n",
    "\n",
    "    @price.deleter\n",
    "    def price(self) -> None:\n",
    "        \"\"\"Deleter: Deletes the price attribute.\"\"\"\n",
    "        del self.__price\n",
    "\n",
    "# Usage Example\n",
    "product1: Product = Product(1000)\n",
    "print(f\"Initial Price: {product1.price}\")\n",
    "\n",
    "product1.price = 1500\n",
    "print(f\"Updated Price: {product1.price}\")\n",
    "\n",
    "del product1.price\n",
    "print(\"Product price deleted successfully!\")\n"
   ]
  },
  {
   "cell_type": "markdown",
   "id": "8ceb4d4b",
   "metadata": {},
   "source": [
    "# 19. callable() and __call__()\n",
    "Assignment:\n",
    "\n",
    "Create a class Multiplier with an __init__() to set a factor. Define a __call__() method that multiplies an input by the factor. Test it with callable() and by calling the object like a function."
   ]
  },
  {
   "cell_type": "code",
   "execution_count": 1,
   "id": "efb1a85a",
   "metadata": {},
   "outputs": [
    {
     "name": "stdout",
     "output_type": "stream",
     "text": [
      "Result of multiplying 10 by factor 5: 50\n",
      "Is the object callable? True\n"
     ]
    }
   ],
   "source": [
    "class Multiplier:\n",
    "    def __init__(self, factor: float) -> None:\n",
    "        self.factor = factor\n",
    "\n",
    "    def __call__(self, value: float) -> float:\n",
    "        \"\"\"Allows the object to be called like a function to multiply the input.\"\"\"\n",
    "        return value * self.factor\n",
    "\n",
    "# Create a multiplier instance\n",
    "multiplier_instance: Multiplier = Multiplier(5)\n",
    "\n",
    "# Call the object like a function\n",
    "result = multiplier_instance(10)\n",
    "print(f\"Result of multiplying 10 by factor 5: {result}\")\n",
    "\n",
    "# Check if the object is callable\n",
    "print(f\"Is the object callable? {callable(multiplier_instance)}\")\n"
   ]
  },
  {
   "cell_type": "markdown",
   "id": "1c538a18",
   "metadata": {},
   "source": [
    "# 20. Creating a Custom Exception\n",
    "Assignment:\n",
    "\n",
    "Create a custom exception InvalidAgeError. Write a function check_age(age) that raises this exception if age < 18. Handle it with try...except."
   ]
  },
  {
   "cell_type": "code",
   "execution_count": 2,
   "id": "f932817e",
   "metadata": {},
   "outputs": [
    {
     "name": "stdout",
     "output_type": "stream",
     "text": [
      "InvalidAgeError: Age must be 18 or older.\n",
      "Age is valid.\n"
     ]
    }
   ],
   "source": [
    "class InvalidAgeError(Exception):\n",
    "    \"\"\"Custom exception raised when age is below the valid threshold.\"\"\"\n",
    "    pass\n",
    "\n",
    "def check_age(age: int) -> str:\n",
    "    \"\"\"Checks if the provided age is valid (18 or older).\"\"\"\n",
    "    if age < 18:\n",
    "        raise InvalidAgeError(\"Age must be 18 or older.\")\n",
    "    return \"Age is valid.\"\n",
    "\n",
    "# Example 1: Invalid age\n",
    "try:\n",
    "    result = check_age(15)\n",
    "    print(result)\n",
    "except InvalidAgeError as e:\n",
    "    print(f\"InvalidAgeError: {e}\")\n",
    "\n",
    "# Example 2: Valid age\n",
    "try:\n",
    "    result = check_age(19)\n",
    "    print(result)\n",
    "except InvalidAgeError as e:\n",
    "    print(f\"InvalidAgeError: {e}\")\n"
   ]
  },
  {
   "cell_type": "markdown",
   "id": "798a501c",
   "metadata": {},
   "source": [
    "# 21. Make a Custom Class Iterable\n",
    "Assignment:\n",
    "\n",
    "Create a class Countdown that takes a start number. Implement __iter__() and __next__() to make the object iterable in a for-loop, counting down to 0."
   ]
  },
  {
   "cell_type": "code",
   "execution_count": 4,
   "id": "d13ecc7d",
   "metadata": {},
   "outputs": [
    {
     "name": "stdout",
     "output_type": "stream",
     "text": [
      "Countdown:\n",
      "5\n",
      "4\n",
      "3\n",
      "2\n",
      "1\n",
      "0\n"
     ]
    }
   ],
   "source": [
    "class Countdown:\n",
    "    \"\"\"An iterable countdown class from a given number down to 0.\"\"\"\n",
    "    \n",
    "    def __init__(self, start: int):\n",
    "        self.current = start\n",
    "\n",
    "    def __iter__(self):\n",
    "        return self\n",
    "\n",
    "    def __next__(self):\n",
    "        if self.current < 0:\n",
    "            raise StopIteration\n",
    "        value = self.current\n",
    "        self.current -= 1\n",
    "        return value\n",
    "\n",
    "# Example usage\n",
    "countdown = Countdown(5)\n",
    "print(\"Countdown:\")\n",
    "for number in countdown:\n",
    "    print(number)\n"
   ]
  }
 ],
 "metadata": {
  "kernelspec": {
   "display_name": "Python 3",
   "language": "python",
   "name": "python3"
  },
  "language_info": {
   "codemirror_mode": {
    "name": "ipython",
    "version": 3
   },
   "file_extension": ".py",
   "mimetype": "text/x-python",
   "name": "python",
   "nbconvert_exporter": "python",
   "pygments_lexer": "ipython3",
   "version": "3.13.2"
  }
 },
 "nbformat": 4,
 "nbformat_minor": 5
}
